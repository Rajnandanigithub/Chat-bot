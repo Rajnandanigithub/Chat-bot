{
  "nbformat": 4,
  "nbformat_minor": 0,
  "metadata": {
    "colab": {
      "provenance": [],
      "authorship_tag": "ABX9TyOhJLe1qOd86Z0dKni+M7ul",
      "include_colab_link": true
    },
    "kernelspec": {
      "name": "python3",
      "display_name": "Python 3"
    },
    "language_info": {
      "name": "python"
    }
  },
  "cells": [
    {
      "cell_type": "markdown",
      "metadata": {
        "id": "view-in-github",
        "colab_type": "text"
      },
      "source": [
        "<a href=\"https://colab.research.google.com/github/Rajnandanigithub/Chat-bot/blob/main/Chatbot.ipynb\" target=\"_parent\"><img src=\"https://colab.research.google.com/assets/colab-badge.svg\" alt=\"Open In Colab\"/></a>"
      ]
    },
    {
      "cell_type": "markdown",
      "source": [
        "A simple Chatbot using Transformers"
      ],
      "metadata": {
        "id": "fO7P-q21FcM8"
      }
    },
    {
      "cell_type": "code",
      "execution_count": 5,
      "metadata": {
        "id": "dzZOU2sO5cPe"
      },
      "outputs": [],
      "source": [
        "#!pip install transformers torch"
      ]
    },
    {
      "cell_type": "code",
      "source": [
        "from transformers import AutoModelForCausalLM, AutoTokenizer\n",
        "import torch\n",
        "\n",
        "# Load the pre-trained model and tokenizer\n",
        "model_name = \"microsoft/DialoGPT-medium\"\n",
        "model = AutoModelForCausalLM.from_pretrained(model_name)\n",
        "tokenizer = AutoTokenizer.from_pretrained(model_name)\n",
        "\n",
        "# Function to chat with the bot\n",
        "def chat_with_bot():\n",
        "    print(\"Chatbot: Hi! How can I help you today?\")\n",
        "    chat_history_ids = None\n",
        "\n",
        "    while True:\n",
        "        # Get user input\n",
        "        user_input = input(\"You: \")\n",
        "\n",
        "        if user_input.lower() in ['exit', 'quit', 'bye']:\n",
        "            print(\"Chatbot: Goodbye!\")\n",
        "            break\n",
        "\n",
        "        # Encode the user input and add the chat history to maintain context\n",
        "        new_user_input_ids = tokenizer.encode(user_input + tokenizer.eos_token, return_tensors='pt')\n",
        "        attention_mask = torch.ones(new_user_input_ids.shape, dtype=torch.long)\n",
        "        if chat_history_ids is not None:\n",
        "            # Append new user input to the chat history\n",
        "            bot_input_ids = torch.cat([chat_history_ids, new_user_input_ids], dim=-1)\n",
        "        else:\n",
        "            bot_input_ids = new_user_input_ids\n",
        "\n",
        "        # Generate a response from the model\n",
        "        chat_history_ids = model.generate(bot_input_ids, max_length=1000, pad_token_id=tokenizer.eos_token_id)\n",
        "\n",
        "        # Decode the response and print it\n",
        "        bot_response = tokenizer.decode(chat_history_ids[:, bot_input_ids.shape[-1]:][0], skip_special_tokens=True)\n",
        "        print(\"Chatbot:\", bot_response)\n",
        "\n",
        "\n"
      ],
      "metadata": {
        "id": "Ts8nOnLx6VvV"
      },
      "execution_count": 3,
      "outputs": []
    },
    {
      "cell_type": "code",
      "source": [
        "# Run the chatbot\n",
        "chat_with_bot()"
      ],
      "metadata": {
        "colab": {
          "base_uri": "https://localhost:8080/"
        },
        "id": "jqxK92Zb6-Lj",
        "outputId": "728404db-6888-46db-f007-15f5708411fc"
      },
      "execution_count": 6,
      "outputs": [
        {
          "output_type": "stream",
          "name": "stdout",
          "text": [
            "Chatbot: Hi! How can I help you today?\n",
            "You: hi\n",
            "Chatbot: Hey! :D\n",
            "You: how are you\n",
            "Chatbot: I'm good, how are you?\n",
            "You: I am fine\n",
            "Chatbot: good to hear\n",
            "You: what is your subject expertise?\n",
            "Chatbot: I'm a graphic designer\n",
            "You: what is the role of a graphic designer?\n",
            "Chatbot: I'm a graphic designer\n",
            "You: what is your favourite colour?\n",
            "Chatbot: I'm a graphic designer\n",
            "You: bye\n",
            "Chatbot: Goodbye!\n"
          ]
        }
      ]
    },
    {
      "cell_type": "code",
      "source": [],
      "metadata": {
        "id": "4uxAGLiD9J0T"
      },
      "execution_count": null,
      "outputs": []
    }
  ]
}